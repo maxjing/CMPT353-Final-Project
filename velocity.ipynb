{
 "cells": [
  {
   "cell_type": "code",
   "execution_count": 2,
   "metadata": {},
   "outputs": [],
   "source": [
    "import pandas as pd\n",
    "import numpy as np\n",
    "import matplotlib.pyplot as plt\n",
    "# from scipy import signal\n",
    "from scipy.signal import butter, sosfilt, sosfreqz"
   ]
  },
  {
   "cell_type": "code",
   "execution_count": 3,
   "metadata": {},
   "outputs": [],
   "source": [
    "walk = pd.read_csv('data/2019-11-2514.35.09.csv').dropna(axis='columns')\n",
    "# walk = pd.read_csv('data/walk-2019-11-2222.14.11.csv').dropna(axis='columns')"
   ]
  },
  {
   "cell_type": "code",
   "execution_count": 4,
   "metadata": {},
   "outputs": [
    {
     "data": {
      "text/html": [
       "<div>\n",
       "<style scoped>\n",
       "    .dataframe tbody tr th:only-of-type {\n",
       "        vertical-align: middle;\n",
       "    }\n",
       "\n",
       "    .dataframe tbody tr th {\n",
       "        vertical-align: top;\n",
       "    }\n",
       "\n",
       "    .dataframe thead th {\n",
       "        text-align: right;\n",
       "    }\n",
       "</style>\n",
       "<table border=\"1\" class=\"dataframe\">\n",
       "  <thead>\n",
       "    <tr style=\"text-align: right;\">\n",
       "      <th></th>\n",
       "      <th>time</th>\n",
       "      <th>ax</th>\n",
       "      <th>ay</th>\n",
       "      <th>az</th>\n",
       "    </tr>\n",
       "  </thead>\n",
       "  <tbody>\n",
       "    <tr>\n",
       "      <td>0</td>\n",
       "      <td>0.004</td>\n",
       "      <td>0.13</td>\n",
       "      <td>0.04</td>\n",
       "      <td>-0.05</td>\n",
       "    </tr>\n",
       "    <tr>\n",
       "      <td>1</td>\n",
       "      <td>0.005</td>\n",
       "      <td>0.11</td>\n",
       "      <td>0.06</td>\n",
       "      <td>-0.02</td>\n",
       "    </tr>\n",
       "    <tr>\n",
       "      <td>2</td>\n",
       "      <td>0.005</td>\n",
       "      <td>0.11</td>\n",
       "      <td>0.06</td>\n",
       "      <td>-0.02</td>\n",
       "    </tr>\n",
       "    <tr>\n",
       "      <td>3</td>\n",
       "      <td>0.005</td>\n",
       "      <td>0.07</td>\n",
       "      <td>0.05</td>\n",
       "      <td>0.04</td>\n",
       "    </tr>\n",
       "    <tr>\n",
       "      <td>4</td>\n",
       "      <td>0.005</td>\n",
       "      <td>0.07</td>\n",
       "      <td>0.05</td>\n",
       "      <td>0.04</td>\n",
       "    </tr>\n",
       "    <tr>\n",
       "      <td>...</td>\n",
       "      <td>...</td>\n",
       "      <td>...</td>\n",
       "      <td>...</td>\n",
       "      <td>...</td>\n",
       "    </tr>\n",
       "    <tr>\n",
       "      <td>33925</td>\n",
       "      <td>53.995</td>\n",
       "      <td>-0.66</td>\n",
       "      <td>-0.56</td>\n",
       "      <td>-1.56</td>\n",
       "    </tr>\n",
       "    <tr>\n",
       "      <td>33926</td>\n",
       "      <td>53.997</td>\n",
       "      <td>-0.66</td>\n",
       "      <td>-0.56</td>\n",
       "      <td>-1.56</td>\n",
       "    </tr>\n",
       "    <tr>\n",
       "      <td>33927</td>\n",
       "      <td>53.999</td>\n",
       "      <td>-0.66</td>\n",
       "      <td>-0.56</td>\n",
       "      <td>-1.56</td>\n",
       "    </tr>\n",
       "    <tr>\n",
       "      <td>33928</td>\n",
       "      <td>53.999</td>\n",
       "      <td>-0.77</td>\n",
       "      <td>-0.54</td>\n",
       "      <td>-1.98</td>\n",
       "    </tr>\n",
       "    <tr>\n",
       "      <td>33929</td>\n",
       "      <td>54.001</td>\n",
       "      <td>-0.77</td>\n",
       "      <td>-0.54</td>\n",
       "      <td>-1.98</td>\n",
       "    </tr>\n",
       "  </tbody>\n",
       "</table>\n",
       "<p>33930 rows × 4 columns</p>\n",
       "</div>"
      ],
      "text/plain": [
       "         time    ax    ay    az\n",
       "0       0.004  0.13  0.04 -0.05\n",
       "1       0.005  0.11  0.06 -0.02\n",
       "2       0.005  0.11  0.06 -0.02\n",
       "3       0.005  0.07  0.05  0.04\n",
       "4       0.005  0.07  0.05  0.04\n",
       "...       ...   ...   ...   ...\n",
       "33925  53.995 -0.66 -0.56 -1.56\n",
       "33926  53.997 -0.66 -0.56 -1.56\n",
       "33927  53.999 -0.66 -0.56 -1.56\n",
       "33928  53.999 -0.77 -0.54 -1.98\n",
       "33929  54.001 -0.77 -0.54 -1.98\n",
       "\n",
       "[33930 rows x 4 columns]"
      ]
     },
     "execution_count": 4,
     "metadata": {},
     "output_type": "execute_result"
    }
   ],
   "source": [
    "walk = walk[['time', 'ax', 'ay', 'az']]\n",
    "walk"
   ]
  },
  {
   "cell_type": "code",
   "execution_count": 5,
   "metadata": {},
   "outputs": [],
   "source": [
    "def vectorAcceleration(df):\n",
    "    '''\n",
    "        calculate vector acceleration\n",
    "    '''\n",
    "    return np.sqrt(df['ax']**2 + df['ay']**2 + df['az']**2)\n",
    "\n",
    "# df = pd.DataFrame(columns=['time', 'acceleration', 'gyro', 'g_removed'])\n",
    "# df['time'] = walk['time']\n",
    "walk['magnitude_acc'] = walk.apply(vectorAcceleration, axis=1)"
   ]
  },
  {
   "cell_type": "code",
   "execution_count": 7,
   "metadata": {},
   "outputs": [
    {
     "data": {
      "image/png": "[encoded data removed]",
      "text/plain": [
       "<Figure size 432x288 with 1 Axes>"
      ]
     },
     "metadata": {
      "needs_background": "light"
     },
     "output_type": "display_data"
    }
   ],
   "source": [
    "# walk\n",
    "df1 = walk.loc[(walk['time'] > 5) & (walk['time'] < 40)]\n",
    "x1 = df1['time']\n",
    "plt.plot(x1, df1.ax, 'r')\n",
    "# plt.plot(x, df.ay)\n",
    "# plt.plot(x, df.az)\n",
    "# plt.plot(x, df.magnitude_acc, 'b')\n",
    "plt.show()"
   ]
  },
  {
   "cell_type": "code",
   "execution_count": 8,
   "metadata": {},
   "outputs": [],
   "source": [
    "# fs = 210.0\n",
    "# lowcut = 50\n",
    "# highcut = 150\n",
    "# b, a = signal.butter(3, 0.05, btype='lowpass', analog=False)\n",
    "# walk['magnitude_acc'] = signal.filtfilt(b, a, walk['magnitude_acc'])"
   ]
  },
  {
   "cell_type": "code",
   "execution_count": 9,
   "metadata": {},
   "outputs": [],
   "source": [
    "# df = walk.loc[(walk['time'] > 5) & (walk['time'] < 40)]\n",
    "# x = df['time']\n",
    "# # plt.plot(x, df.ax, 'r')\n",
    "# # plt.plot(x, df.ay)\n",
    "# # plt.plot(x, df.az)\n",
    "# plt.plot(x, df.magnitude_acc, 'b')\n",
    "# plt.show()"
   ]
  },
  {
   "cell_type": "code",
   "execution_count": 10,
   "metadata": {},
   "outputs": [],
   "source": [
    "# from scipy.signal import butter, sosfilt, sosfreqz\n",
    "def butter_bandpass(lowcut, highcut, fs, order=3):\n",
    "        nyq = 0.5 * fs\n",
    "        low = lowcut / nyq\n",
    "        high = highcut / nyq\n",
    "        sos = butter(order, [0.25, 0.75], analog=False, btype='band', output='sos')\n",
    "        return sos\n",
    "\n",
    "def butter_bandpass_filter(data, lowcut, highcut, fs, order=3):\n",
    "        sos = butter_bandpass(lowcut, highcut, fs, order=order)\n",
    "        y = sosfilt(sos, data)\n",
    "        return y\n",
    "\n",
    "fs = 200.0\n",
    "lowcut = 50.0\n",
    "highcut = 150.0\n",
    "walk['magnitude_acc_filtered'] = butter_bandpass_filter(walk['magnitude_acc'], lowcut, highcut, fs, order=3)"
   ]
  },
  {
   "cell_type": "code",
   "execution_count": 11,
   "metadata": {},
   "outputs": [
    {
     "data": {
      "text/html": [
       "<div>\n",
       "<style scoped>\n",
       "    .dataframe tbody tr th:only-of-type {\n",
       "        vertical-align: middle;\n",
       "    }\n",
       "\n",
       "    .dataframe tbody tr th {\n",
       "        vertical-align: top;\n",
       "    }\n",
       "\n",
       "    .dataframe thead th {\n",
       "        text-align: right;\n",
       "    }\n",
       "</style>\n",
       "<table border=\"1\" class=\"dataframe\">\n",
       "  <thead>\n",
       "    <tr style=\"text-align: right;\">\n",
       "      <th></th>\n",
       "      <th>time</th>\n",
       "      <th>ax</th>\n",
       "      <th>ay</th>\n",
       "      <th>az</th>\n",
       "      <th>magnitude_acc</th>\n",
       "      <th>magnitude_acc_filtered</th>\n",
       "      <th>ax_filtered</th>\n",
       "      <th>ay_filtered</th>\n",
       "    </tr>\n",
       "  </thead>\n",
       "  <tbody>\n",
       "    <tr>\n",
       "      <td>0</td>\n",
       "      <td>0.004</td>\n",
       "      <td>0.13</td>\n",
       "      <td>0.04</td>\n",
       "      <td>-0.05</td>\n",
       "      <td>0.144914</td>\n",
       "      <td>0.024152</td>\n",
       "      <td>0.021667</td>\n",
       "      <td>0.006667</td>\n",
       "    </tr>\n",
       "    <tr>\n",
       "      <td>1</td>\n",
       "      <td>0.005</td>\n",
       "      <td>0.11</td>\n",
       "      <td>0.06</td>\n",
       "      <td>-0.02</td>\n",
       "      <td>0.126886</td>\n",
       "      <td>0.021148</td>\n",
       "      <td>0.018333</td>\n",
       "      <td>0.010000</td>\n",
       "    </tr>\n",
       "    <tr>\n",
       "      <td>2</td>\n",
       "      <td>0.005</td>\n",
       "      <td>0.11</td>\n",
       "      <td>0.06</td>\n",
       "      <td>-0.02</td>\n",
       "      <td>0.126886</td>\n",
       "      <td>-0.051309</td>\n",
       "      <td>-0.046667</td>\n",
       "      <td>-0.010000</td>\n",
       "    </tr>\n",
       "    <tr>\n",
       "      <td>3</td>\n",
       "      <td>0.005</td>\n",
       "      <td>0.07</td>\n",
       "      <td>0.05</td>\n",
       "      <td>0.04</td>\n",
       "      <td>0.094868</td>\n",
       "      <td>-0.047631</td>\n",
       "      <td>-0.043333</td>\n",
       "      <td>-0.021667</td>\n",
       "    </tr>\n",
       "    <tr>\n",
       "      <td>4</td>\n",
       "      <td>0.005</td>\n",
       "      <td>0.07</td>\n",
       "      <td>0.05</td>\n",
       "      <td>0.04</td>\n",
       "      <td>0.094868</td>\n",
       "      <td>0.016775</td>\n",
       "      <td>0.014444</td>\n",
       "      <td>-0.003889</td>\n",
       "    </tr>\n",
       "    <tr>\n",
       "      <td>...</td>\n",
       "      <td>...</td>\n",
       "      <td>...</td>\n",
       "      <td>...</td>\n",
       "      <td>...</td>\n",
       "      <td>...</td>\n",
       "      <td>...</td>\n",
       "      <td>...</td>\n",
       "      <td>...</td>\n",
       "    </tr>\n",
       "    <tr>\n",
       "      <td>33925</td>\n",
       "      <td>53.995</td>\n",
       "      <td>-0.66</td>\n",
       "      <td>-0.56</td>\n",
       "      <td>-1.56</td>\n",
       "      <td>1.784040</td>\n",
       "      <td>-0.050817</td>\n",
       "      <td>0.015861</td>\n",
       "      <td>-0.002803</td>\n",
       "    </tr>\n",
       "    <tr>\n",
       "      <td>33926</td>\n",
       "      <td>53.997</td>\n",
       "      <td>-0.66</td>\n",
       "      <td>-0.56</td>\n",
       "      <td>-1.56</td>\n",
       "      <td>1.784040</td>\n",
       "      <td>0.183246</td>\n",
       "      <td>-0.052291</td>\n",
       "      <td>-0.019941</td>\n",
       "    </tr>\n",
       "    <tr>\n",
       "      <td>33927</td>\n",
       "      <td>53.999</td>\n",
       "      <td>-0.66</td>\n",
       "      <td>-0.56</td>\n",
       "      <td>-1.56</td>\n",
       "      <td>1.784040</td>\n",
       "      <td>-0.127122</td>\n",
       "      <td>0.037534</td>\n",
       "      <td>0.016483</td>\n",
       "    </tr>\n",
       "    <tr>\n",
       "      <td>33928</td>\n",
       "      <td>53.999</td>\n",
       "      <td>-0.77</td>\n",
       "      <td>-0.54</td>\n",
       "      <td>-1.98</td>\n",
       "      <td>2.192008</td>\n",
       "      <td>-0.073714</td>\n",
       "      <td>0.016521</td>\n",
       "      <td>0.018522</td>\n",
       "    </tr>\n",
       "    <tr>\n",
       "      <td>33929</td>\n",
       "      <td>54.001</td>\n",
       "      <td>-0.77</td>\n",
       "      <td>-0.54</td>\n",
       "      <td>-1.98</td>\n",
       "      <td>2.192008</td>\n",
       "      <td>0.176085</td>\n",
       "      <td>-0.046954</td>\n",
       "      <td>-0.004066</td>\n",
       "    </tr>\n",
       "  </tbody>\n",
       "</table>\n",
       "<p>33930 rows × 8 columns</p>\n",
       "</div>"
      ],
      "text/plain": [
       "         time    ax    ay    az  magnitude_acc  magnitude_acc_filtered  \\\n",
       "0       0.004  0.13  0.04 -0.05       0.144914                0.024152   \n",
       "1       0.005  0.11  0.06 -0.02       0.126886                0.021148   \n",
       "2       0.005  0.11  0.06 -0.02       0.126886               -0.051309   \n",
       "3       0.005  0.07  0.05  0.04       0.094868               -0.047631   \n",
       "4       0.005  0.07  0.05  0.04       0.094868                0.016775   \n",
       "...       ...   ...   ...   ...            ...                     ...   \n",
       "33925  53.995 -0.66 -0.56 -1.56       1.784040               -0.050817   \n",
       "33926  53.997 -0.66 -0.56 -1.56       1.784040                0.183246   \n",
       "33927  53.999 -0.66 -0.56 -1.56       1.784040               -0.127122   \n",
       "33928  53.999 -0.77 -0.54 -1.98       2.192008               -0.073714   \n",
       "33929  54.001 -0.77 -0.54 -1.98       2.192008                0.176085   \n",
       "\n",
       "       ax_filtered  ay_filtered  \n",
       "0         0.021667     0.006667  \n",
       "1         0.018333     0.010000  \n",
       "2        -0.046667    -0.010000  \n",
       "3        -0.043333    -0.021667  \n",
       "4         0.014444    -0.003889  \n",
       "...            ...          ...  \n",
       "33925     0.015861    -0.002803  \n",
       "33926    -0.052291    -0.019941  \n",
       "33927     0.037534     0.016483  \n",
       "33928     0.016521     0.018522  \n",
       "33929    -0.046954    -0.004066  \n",
       "\n",
       "[33930 rows x 8 columns]"
      ]
     },
     "execution_count": 11,
     "metadata": {},
     "output_type": "execute_result"
    }
   ],
   "source": [
    "walk['ax_filtered'] = butter_bandpass_filter(walk['ax'], lowcut, highcut, fs, order=3)\n",
    "walk['ay_filtered'] = butter_bandpass_filter(walk['ay'], lowcut, highcut, fs, order=3)\n",
    "walk"
   ]
  },
  {
   "cell_type": "code",
   "execution_count": 12,
   "metadata": {},
   "outputs": [
    {
     "data": {
      "image/png": "[encoded data removed]",
      "text/plain": [
       "<Figure size 432x288 with 1 Axes>"
      ]
     },
     "metadata": {
      "needs_background": "light"
     },
     "output_type": "display_data"
    }
   ],
   "source": [
    "df2 = walk.loc[(walk['time'] > 5) & (walk['time'] < 40)]\n",
    "x2 = df2['time']\n",
    "# plt.plot(x2, df2.ax, 'r')\n",
    "# plt.plot(x, df.ay)\n",
    "# plt.plot(x, df.az)\n",
    "# plt.plot(x2, df2.magnitude_acc, 'b')\n",
    "plt.plot(x2, df2.magnitude_acc_filtered, 'r')\n",
    "plt.show()"
   ]
  },
  {
   "cell_type": "code",
   "execution_count": 13,
   "metadata": {},
   "outputs": [],
   "source": [
    "from scipy import integrate\n",
    "def vel_integration(acc_lst, time_lst):\n",
    "    acc = np.array(acc_lst, dtype=np.float64)\n",
    "    vel = integrate.cumtrapz(acc, time_lst, initial=0)\n",
    "#     dist = integrate.cumtrapz(vel, time, initial=0)\n",
    "    return vel\n",
    "\n",
    "vel_x = vel_integration(df2.ax_filtered, x2)\n",
    "vel_y = vel_integration(df2.ay_filtered, x2)"
   ]
  },
  {
   "cell_type": "code",
   "execution_count": 14,
   "metadata": {},
   "outputs": [
    {
     "data": {
      "image/png": "[encoded data removed]",
      "text/plain": [
       "<Figure size 432x288 with 1 Axes>"
      ]
     },
     "metadata": {
      "needs_background": "light"
     },
     "output_type": "display_data"
    }
   ],
   "source": [
    "plt.plot(x2, vel_x)\n",
    "plt.plot(x2, vel_y)\n",
    "plt.show()"
   ]
  },
  {
   "cell_type": "code",
   "execution_count": 15,
   "metadata": {},
   "outputs": [
    {
     "data": {
      "text/plain": [
       "numpy.ndarray"
      ]
     },
     "execution_count": 15,
     "metadata": {},
     "output_type": "execute_result"
    }
   ],
   "source": [
    "vel = np.square(vel_x)+ np.square(vel_y)\n",
    "type(vel_x)"
   ]
  },
  {
   "cell_type": "code",
   "execution_count": 16,
   "metadata": {},
   "outputs": [
    {
     "data": {
      "image/png": "[encoded data removed]",
      "text/plain": [
       "<Figure size 432x288 with 1 Axes>"
      ]
     },
     "metadata": {
      "needs_background": "light"
     },
     "output_type": "display_data"
    }
   ],
   "source": [
    "plt.plot(x2, vel)\n",
    "plt.show()"
   ]
  },
  {
   "cell_type": "code",
   "execution_count": 17,
   "metadata": {},
   "outputs": [
    {
     "data": {
      "image/png": "[encoded data removed]",
      "text/plain": [
       "<Figure size 432x288 with 1 Axes>"
      ]
     },
     "metadata": {
      "needs_background": "light"
     },
     "output_type": "display_data"
    }
   ],
   "source": [
    "vel_acc_filtered = vel_integration(walk.magnitude_acc_filtered, walk.time) \n",
    "plt.plot(walk.time, vel_acc_filtered)\n",
    "plt.show()"
   ]
  },
  {
   "cell_type": "code",
   "execution_count": null,
   "metadata": {},
   "outputs": [],
   "source": []
  }
 ],
 "metadata": {
  "kernelspec": {
   "display_name": "Python 3",
   "language": "python",
   "name": "python3"
  },
  "language_info": {
   "codemirror_mode": {
    "name": "ipython",
    "version": 3
   },
   "file_extension": ".py",
   "mimetype": "text/x-python",
   "name": "python",
   "nbconvert_exporter": "python",
   "pygments_lexer": "ipython3",
   "version": "3.6.8"
  }
 },
 "nbformat": 4,
 "nbformat_minor": 2
}
